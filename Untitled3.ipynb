{
  "nbformat": 4,
  "nbformat_minor": 0,
  "metadata": {
    "colab": {
      "provenance": [],
      "authorship_tag": "ABX9TyPO0xhC3RQ5rmmTyeXSjLC4",
      "include_colab_link": true
    },
    "kernelspec": {
      "name": "python3",
      "display_name": "Python 3"
    },
    "language_info": {
      "name": "python"
    }
  },
  "cells": [
    {
      "cell_type": "markdown",
      "metadata": {
        "id": "view-in-github",
        "colab_type": "text"
      },
      "source": [
        "<a href=\"https://colab.research.google.com/github/SudhekshaR/AI_Phase1/blob/main/Untitled3.ipynb\" target=\"_parent\"><img src=\"https://colab.research.google.com/assets/colab-badge.svg\" alt=\"Open In Colab\"/></a>"
      ]
    },
    {
      "cell_type": "code",
      "execution_count": null,
      "metadata": {
        "id": "qEKQ3SAVIIO_"
      },
      "outputs": [],
      "source": [
        "from google.colab import drive\n",
        "drive.mount('/content/drive')\n",
        "\n",
        "# Access the dataset\n",
        "import pandas as pd\n",
        "\n",
        "# Assuming your file is in the 'My Drive' folder in Google Drive\n",
        "path_to_file1 = '/content/drive/MyDrive/Fake.csv'\n",
        "path_to_file2 = '/content/drive/MyDrive/True.csv'\n",
        "\n",
        "\n",
        "# Load the dataset into a Pandas DataFrame\n",
        "fake_data= pd.read_csv(path_to_file1)\n",
        "true_data= pd.read_csv(path_to_file2)\n",
        "\n",
        "\n",
        "\n",
        "print(fake_data.head())\n",
        "print(true_data.head())\n",
        "true_data['label1'] = 1\n",
        "fake_data['label2'] = 0\n"
      ]
    }
  ]
}